{
 "cells": [
  {
   "cell_type": "markdown",
   "id": "5e04f654",
   "metadata": {},
   "source": [
    "1. What does one mean by the term 'machine learning'?"
   ]
  },
  {
   "cell_type": "markdown",
   "id": "cbdd867b",
   "metadata": {},
   "source": [
    "It's ability of machine to imitate human brain. it's practice of algorithm to extract data , learn and forecast trend out of it."
   ]
  },
  {
   "cell_type": "markdown",
   "id": "0ddccb9b",
   "metadata": {},
   "source": [
    "2.Can you think of 4 distinct types of issues where it shines?"
   ]
  },
  {
   "cell_type": "markdown",
   "id": "2f34a21b",
   "metadata": {},
   "source": [
    "Following are 4 issues:\n",
    "- AI\n",
    "- Games \n",
    "- Social Media App\n",
    "- Weather forecast"
   ]
  },
  {
   "cell_type": "markdown",
   "id": "991ae7c1",
   "metadata": {},
   "source": [
    "3.What is a labeled training set, and how does it work?"
   ]
  },
  {
   "cell_type": "markdown",
   "id": "a1b8731d",
   "metadata": {},
   "source": [
    "Those are the training data used to train the model based on which model is designed to make prediction over the test data."
   ]
  },
  {
   "cell_type": "markdown",
   "id": "7e0e1274",
   "metadata": {},
   "source": [
    "4.What are the two most important tasks that are supervised?"
   ]
  },
  {
   "cell_type": "markdown",
   "id": "74afa35c",
   "metadata": {},
   "source": [
    "Regression and Classification tasks"
   ]
  },
  {
   "cell_type": "markdown",
   "id": "b1c93d68",
   "metadata": {},
   "source": [
    "5.Can you think of four examples of unsupervised tasks?"
   ]
  },
  {
   "cell_type": "markdown",
   "id": "7550ea4b",
   "metadata": {},
   "source": [
    "- Social media friend recomendatition\n",
    "- DNA pattern\n",
    "- Understanding different customer group at restaurant\n",
    "- Visitors choice pattern"
   ]
  },
  {
   "cell_type": "markdown",
   "id": "ba9bf2ff",
   "metadata": {},
   "source": [
    "6.State the machine learning model that would be best to make a robot walk through various\n",
    "unfamiliar terrains?"
   ]
  },
  {
   "cell_type": "markdown",
   "id": "c5086ca1",
   "metadata": {},
   "source": [
    "Reinforcement learning"
   ]
  },
  {
   "cell_type": "code",
   "execution_count": null,
   "id": "6ddc849a",
   "metadata": {},
   "outputs": [],
   "source": [
    "7.Which algorithm will you use to divide your customers into different groups?"
   ]
  },
  {
   "cell_type": "markdown",
   "id": "bb06be3f",
   "metadata": {},
   "source": [
    "Clustering Algorithm will assist the best in term of static as well as dynamic behaviour."
   ]
  },
  {
   "cell_type": "code",
   "execution_count": null,
   "id": "aee58e45",
   "metadata": {},
   "outputs": [],
   "source": [
    "8.Will you consider the problem of spam detection to be a supervised or unsupervised learning\n",
    "problem?"
   ]
  },
  {
   "cell_type": "markdown",
   "id": "6476d944",
   "metadata": {},
   "source": [
    "Supervised learning problem"
   ]
  },
  {
   "cell_type": "code",
   "execution_count": null,
   "id": "f7644b43",
   "metadata": {},
   "outputs": [],
   "source": [
    "9.What is the concept of an online learning system?"
   ]
  },
  {
   "cell_type": "markdown",
   "id": "694d48c1",
   "metadata": {},
   "source": [
    "Learning system based on formalised teaching but remotely and electronic based."
   ]
  },
  {
   "cell_type": "code",
   "execution_count": null,
   "id": "f8903dfb",
   "metadata": {},
   "outputs": [],
   "source": [
    "10.What is out-of-core learning, and how does it differ from core learning?"
   ]
  },
  {
   "cell_type": "markdown",
   "id": "3f1fde25",
   "metadata": {},
   "source": [
    "Out of core learning refers to ML algo working with data that cannot fit into single machine memory so extral storage are used "
   ]
  },
  {
   "cell_type": "code",
   "execution_count": null,
   "id": "db9315e7",
   "metadata": {},
   "outputs": [],
   "source": [
    "11.What kind of learning algorithm makes predictions using a similarity measure?"
   ]
  },
  {
   "cell_type": "markdown",
   "id": "3e895ca8",
   "metadata": {},
   "source": [
    "Instance based Algorithm"
   ]
  },
  {
   "cell_type": "markdown",
   "id": "73c1f669",
   "metadata": {},
   "source": [
    "12.What's the difference between a model parameter and a hyperparameter in a learning\n",
    "algorithm?"
   ]
  },
  {
   "cell_type": "markdown",
   "id": "d2d9fc43",
   "metadata": {},
   "source": [
    "Model parameter are internal to model and are estimated from the data automatically vs Hyperparametes is set manually and used for the optimization of model and making model precise."
   ]
  },
  {
   "cell_type": "markdown",
   "id": "66ec4e16",
   "metadata": {},
   "source": [
    "13.What are the criteria that model-based learning algorithms look for? What is the most popular\n",
    "method they use to achieve success? What method do they use to make predictions?"
   ]
  },
  {
   "cell_type": "markdown",
   "id": "3bd8d3b1",
   "metadata": {},
   "source": []
  },
  {
   "cell_type": "code",
   "execution_count": null,
   "id": "0341da7b",
   "metadata": {},
   "outputs": [],
   "source": [
    "14.Can you name four of the most important Machine Learning challenges?"
   ]
  },
  {
   "cell_type": "markdown",
   "id": "b7ef3829",
   "metadata": {},
   "source": [
    "- Inadequate Train datasets\n",
    "- Poor available data\n",
    "- Under fitting and Over fitting\n",
    "- Lack of skill"
   ]
  },
  {
   "cell_type": "markdown",
   "id": "12249958",
   "metadata": {},
   "source": [
    "15.What happens if the model performs well on the training data but fails to generalize the results\n",
    "to new situations? Can you think of three different options?"
   ]
  },
  {
   "cell_type": "markdown",
   "id": "f7211674",
   "metadata": {},
   "source": [
    "- It's case of Over fitting where training data perform well but same model prediction is much less in case of test data."
   ]
  },
  {
   "cell_type": "markdown",
   "id": "45a9d6ec",
   "metadata": {},
   "source": [
    "16.What exactly is a test set, and why would you need one?"
   ]
  },
  {
   "cell_type": "markdown",
   "id": "97462883",
   "metadata": {},
   "source": [
    "Test set are set of data from the dataset over ehich we test our ML Algo after testing the model on the training data to test for condition of over fitting , under fitting."
   ]
  },
  {
   "cell_type": "markdown",
   "id": "b89778e0",
   "metadata": {},
   "source": [
    "17.What is a validation set's purpose?"
   ]
  },
  {
   "cell_type": "markdown",
   "id": "7a133bc8",
   "metadata": {},
   "source": [
    "It's set of data used to train AI to find and optimize best model."
   ]
  },
  {
   "cell_type": "markdown",
   "id": "7a0f9bb0",
   "metadata": {},
   "source": [
    "18.What precisely is the train-dev kit, when will you need it, how do you put it to use?"
   ]
  },
  {
   "cell_type": "markdown",
   "id": "08f624de",
   "metadata": {},
   "source": [
    "Train - dev kit is the process to rank the model as per accuracy to find out the best fit training model for further process."
   ]
  },
  {
   "cell_type": "markdown",
   "id": "caa5da2a",
   "metadata": {},
   "source": [
    "19.What could go wrong if you use the test set to tune hyperparameters?"
   ]
  },
  {
   "cell_type": "markdown",
   "id": "938d4b80",
   "metadata": {},
   "source": [
    "In that case model will not generalize well to unseen data because it will overfit the test data."
   ]
  }
 ],
 "metadata": {
  "kernelspec": {
   "display_name": "Python 3 (ipykernel)",
   "language": "python",
   "name": "python3"
  },
  "language_info": {
   "codemirror_mode": {
    "name": "ipython",
    "version": 3
   },
   "file_extension": ".py",
   "mimetype": "text/x-python",
   "name": "python",
   "nbconvert_exporter": "python",
   "pygments_lexer": "ipython3",
   "version": "3.9.13"
  }
 },
 "nbformat": 4,
 "nbformat_minor": 5
}
